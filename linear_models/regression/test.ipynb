{
 "cells": [
  {
   "cell_type": "code",
   "execution_count": 1,
   "id": "a2dd760f-d475-4b49-9703-c71e6108006d",
   "metadata": {},
   "outputs": [],
   "source": [
    "import os\n",
    "import sys\n",
    "sys.path.insert(0, os.path.abspath(\"..\"))\n",
    "# from polynomial_regression import PolynomialRegression\n",
    "from linear_regression import LinearRegression\n",
    "# from classification.least_squares_classifier import LeastSquareClassifier\n",
    "import matplotlib.pyplot as plt\n",
    "import numpy as np\n",
    "import pandas as pd\n",
    "import matplotlib.pyplot as plt\n",
    "from sklearn.model_selection import train_test_split\n",
    "# from classification.perceptron import Perceptron\n",
    "import seaborn as sns"
   ]
  },
  {
   "cell_type": "code",
   "execution_count": 2,
   "id": "befed35f-d8db-46cf-a2f4-8f3507757d2b",
   "metadata": {},
   "outputs": [],
   "source": [
    "from sklearn.datasets import make_regression"
   ]
  },
  {
   "cell_type": "code",
   "execution_count": 3,
   "id": "dc36d85d-7879-4acc-98dc-472f5d21bdbb",
   "metadata": {},
   "outputs": [],
   "source": [
    "X, y = make_regression(n_samples=100, n_features=1)\n",
    "y = y.reshape(-1,1)"
   ]
  },
  {
   "cell_type": "code",
   "execution_count": 4,
   "id": "394d4c30-6d1e-4a83-bdfe-de70f56bdd03",
   "metadata": {},
   "outputs": [
    {
     "data": {
      "text/plain": [
       "<matplotlib.collections.PathCollection at 0x20aa66663a0>"
      ]
     },
     "execution_count": 4,
     "metadata": {},
     "output_type": "execute_result"
    },
    {
     "data": {
      "image/png": "[encoded data removed]",
      "text/plain": [
       "<Figure size 432x288 with 1 Axes>"
      ]
     },
     "metadata": {
      "needs_background": "light"
     },
     "output_type": "display_data"
    }
   ],
   "source": [
    "plt.scatter(X,y)"
   ]
  },
  {
   "cell_type": "code",
   "execution_count": 12,
   "id": "2a63ffe3-2b31-4bdc-9df5-63e7b47a5712",
   "metadata": {},
   "outputs": [],
   "source": [
    "lin = LinearRegression(optimizer = 'MBGD')"
   ]
  },
  {
   "cell_type": "code",
   "execution_count": 14,
   "id": "cbb418b3-dfff-41e0-ae8f-f74006bd7943",
   "metadata": {},
   "outputs": [
    {
     "name": "stdout",
     "output_type": "stream",
     "text": [
      "Epoch 0 Loss is : 461465.32945083914\n",
      "Epoch 1 Loss is : 315736.8161996631\n",
      "Epoch 2 Loss is : 216854.3663250566\n",
      "Epoch 3 Loss is : 149457.53414156561\n",
      "Epoch 4 Loss is : 103415.558169418\n",
      "Epoch 5 Loss is : 71794.24206394078\n",
      "Epoch 6 Loss is : 49994.925243519276\n",
      "Epoch 7 Loss is : 34924.955306414\n",
      "Epoch 8 Loss is : 24459.057629481216\n",
      "Epoch 9 Loss is : 17180.45155638413\n",
      "Epoch 10 Loss is : 12096.915314012609\n",
      "Epoch 11 Loss is : 8540.089431457194\n",
      "Epoch 12 Loss is : 6040.911277575587\n",
      "Epoch 13 Loss is : 4282.355827185007\n",
      "Epoch 14 Loss is : 3040.740867893039\n",
      "Epoch 15 Loss is : 2162.0866943533842\n",
      "Epoch 16 Loss is : 1540.6238158567771\n",
      "Epoch 17 Loss is : 1099.4375886763335\n",
      "Epoch 18 Loss is : 785.6729309101171\n",
      "Epoch 19 Loss is : 561.9461130312001\n",
      "The loss is 561.9461130312001\n"
     ]
    }
   ],
   "source": [
    "lin.train(X,y,epochs=20,verbose=True,learning_rate=0.1,batch_size=5)"
   ]
  },
  {
   "cell_type": "code",
   "execution_count": 18,
   "id": "8c17635e-d645-4bb4-807f-6bac956352c2",
   "metadata": {},
   "outputs": [
    {
     "data": {
      "text/plain": [
       "<matplotlib.legend.Legend at 0x20aa89ca310>"
      ]
     },
     "execution_count": 18,
     "metadata": {},
     "output_type": "execute_result"
    },
    {
     "data": {
      "image/png": "[encoded data removed]",
      "text/plain": [
       "<Figure size 432x288 with 1 Axes>"
      ]
     },
     "metadata": {
      "needs_background": "light"
     },
     "output_type": "display_data"
    }
   ],
   "source": [
    "plt.scatter(X,y, label = 'actual')\n",
    "plt.scatter(X, lin.predict(X), label='Predicted')\n",
    "plt.legend()"
   ]
  },
  {
   "cell_type": "code",
   "execution_count": null,
   "id": "856ff8cb-aaa1-4558-9745-6d03f2db3c41",
   "metadata": {},
   "outputs": [],
   "source": []
  }
 ],
 "metadata": {
  "kernelspec": {
   "display_name": "Python 3 (ipykernel)",
   "language": "python",
   "name": "python3"
  },
  "language_info": {
   "codemirror_mode": {
    "name": "ipython",
    "version": 3
   },
   "file_extension": ".py",
   "mimetype": "text/x-python",
   "name": "python",
   "nbconvert_exporter": "python",
   "pygments_lexer": "ipython3",
   "version": "3.8.8"
  },
  "toc-autonumbering": false,
  "toc-showcode": false,
  "toc-showmarkdowntxt": false
 },
 "nbformat": 4,
 "nbformat_minor": 5
}
