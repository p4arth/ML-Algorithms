{
 "cells": [
  {
   "cell_type": "code",
   "execution_count": 1,
   "id": "a2dd760f-d475-4b49-9703-c71e6108006d",
   "metadata": {},
   "outputs": [],
   "source": [
    "from polynomial_regression import PolynomialRegression\n",
    "import matplotlib.pyplot as plt\n",
    "import numpy as np\n",
    "import pandas as pd\n",
    "from sklearn.model_selection import train_test_split"
   ]
  },
  {
   "cell_type": "code",
   "execution_count": 2,
   "id": "c5f0895e-ccee-4e0b-96d2-cc6655c7fd1c",
   "metadata": {},
   "outputs": [],
   "source": [
    "def non_linear(x):\n",
    "    return np.sin(x)"
   ]
  },
  {
   "cell_type": "code",
   "execution_count": 106,
   "id": "70f0abe1-3428-4ae0-9cd9-ea853dad5761",
   "metadata": {},
   "outputs": [],
   "source": [
    "def make_data(start, stop, sample):\n",
    "    X = np.linspace(start, stop, sample)\n",
    "    y = non_linear(X)\n",
    "\n",
    "    return X.reshape(-1,1) , np.array(y).reshape(-1,1)"
   ]
  },
  {
   "cell_type": "code",
   "execution_count": 112,
   "id": "772387e6-2e62-4cad-8dfe-ced3e4eb5b23",
   "metadata": {},
   "outputs": [],
   "source": [
    "X, y = make_data(0, 5, 1000)"
   ]
  },
  {
   "cell_type": "code",
   "execution_count": 121,
   "id": "24762ac6-b14e-4509-a143-3579f21cf309",
   "metadata": {},
   "outputs": [
    {
     "name": "stdout",
     "output_type": "stream",
     "text": [
      "Epoch 0 Loss is : 133.56662647407322\n",
      "Epoch 1 Loss is : 76.15635582751574\n",
      "Epoch 2 Loss is : 249.1801784428066\n",
      "Epoch 3 Loss is : 80.8887239167236\n",
      "Epoch 4 Loss is : 63.64183482328992\n",
      "Epoch 5 Loss is : 232.68285996115748\n",
      "Epoch 6 Loss is : 87.25682813097178\n",
      "Epoch 7 Loss is : 69.0059686705164\n",
      "Epoch 8 Loss is : 57.17985914853114\n",
      "Epoch 9 Loss is : 63.666661606228026\n",
      "Epoch 10 Loss is : 80.0110912105767\n",
      "Epoch 11 Loss is : 62.439607181970494\n",
      "Epoch 12 Loss is : 61.547497503340864\n",
      "Epoch 13 Loss is : 98.08789283230374\n",
      "Epoch 14 Loss is : 54.32809353985486\n",
      "Epoch 15 Loss is : 66.17631049835063\n",
      "Epoch 16 Loss is : 53.54788158644797\n",
      "Epoch 17 Loss is : 85.66264061946933\n",
      "Epoch 18 Loss is : 54.70207865946832\n",
      "Epoch 19 Loss is : 83.33132746566943\n",
      "Epoch 20 Loss is : 53.977316635899086\n",
      "Epoch 21 Loss is : 55.69666842315825\n",
      "Epoch 22 Loss is : 53.254840272403584\n",
      "Epoch 23 Loss is : 53.021474367656545\n",
      "Epoch 24 Loss is : 65.90970104115515\n",
      "Epoch 25 Loss is : 72.17500278219723\n",
      "Epoch 26 Loss is : 65.5590316181053\n",
      "Epoch 27 Loss is : 60.14651995759256\n",
      "Epoch 28 Loss is : 52.33122547995971\n",
      "Epoch 29 Loss is : 69.14553295578443\n",
      "Epoch 30 Loss is : 55.35016985575109\n",
      "Epoch 31 Loss is : 62.46253398079552\n",
      "Epoch 32 Loss is : 61.48838216547374\n",
      "Epoch 33 Loss is : 58.669943793913845\n",
      "Epoch 34 Loss is : 54.341903918224304\n",
      "Epoch 35 Loss is : 67.23087859031361\n",
      "Epoch 36 Loss is : 61.84248426383453\n",
      "Epoch 37 Loss is : 140.31819940279235\n",
      "Epoch 38 Loss is : 65.24474792432395\n",
      "Epoch 39 Loss is : 54.28071061459025\n",
      "Epoch 40 Loss is : 74.72433579054754\n",
      "Epoch 41 Loss is : 60.78702057007117\n",
      "Epoch 42 Loss is : 58.93355921150369\n",
      "Epoch 43 Loss is : 62.28099764668837\n",
      "Epoch 44 Loss is : 61.92948729061748\n",
      "Epoch 45 Loss is : 52.59538297392391\n",
      "Epoch 46 Loss is : 61.779641197076984\n",
      "Epoch 47 Loss is : 79.90023709583978\n",
      "Epoch 48 Loss is : 52.64948991755493\n",
      "Epoch 49 Loss is : 77.97684493077291\n",
      "Epoch 50 Loss is : 61.12295415160992\n",
      "Epoch 51 Loss is : 68.53824713687723\n",
      "Epoch 52 Loss is : 52.24874124061324\n",
      "Epoch 53 Loss is : 52.34304010214947\n",
      "Epoch 54 Loss is : 77.00319117940286\n",
      "Epoch 55 Loss is : 62.55285626545141\n",
      "Epoch 56 Loss is : 95.74827420002056\n",
      "Epoch 57 Loss is : 52.45360144980125\n",
      "Epoch 58 Loss is : 69.84284114123808\n",
      "Epoch 59 Loss is : 53.992891809704375\n",
      "Epoch 60 Loss is : 54.386966833197896\n",
      "Epoch 61 Loss is : 52.47010504538389\n",
      "Epoch 62 Loss is : 60.67137730339898\n",
      "Epoch 63 Loss is : 55.562734325099385\n",
      "Epoch 64 Loss is : 52.74672311581325\n",
      "Epoch 65 Loss is : 52.25635890472669\n",
      "Epoch 66 Loss is : 52.714570560292856\n",
      "Epoch 67 Loss is : 53.582000411925655\n",
      "Epoch 68 Loss is : 100.9738528196745\n",
      "Epoch 69 Loss is : 54.30402074878981\n",
      "Epoch 70 Loss is : 52.338061028715046\n",
      "Epoch 71 Loss is : 55.575572114386205\n",
      "Epoch 72 Loss is : 59.42038852031551\n",
      "Epoch 73 Loss is : 54.27988477709498\n",
      "Epoch 74 Loss is : 52.7092601156636\n",
      "Epoch 75 Loss is : 58.43604368123709\n",
      "Epoch 76 Loss is : 53.05616740113868\n",
      "Epoch 77 Loss is : 83.53164222599256\n",
      "Epoch 78 Loss is : 58.38630131275865\n",
      "Epoch 79 Loss is : 55.80259785108427\n",
      "Epoch 80 Loss is : 55.74337477835501\n",
      "Epoch 81 Loss is : 86.25363336722137\n",
      "Epoch 82 Loss is : 57.17972050067743\n",
      "Epoch 83 Loss is : 56.53244122684616\n",
      "Epoch 84 Loss is : 59.74207059827007\n",
      "Epoch 85 Loss is : 74.92228477751932\n",
      "Epoch 86 Loss is : 55.66107487005229\n",
      "Epoch 87 Loss is : 52.77375195079213\n",
      "Epoch 88 Loss is : 81.99627446270526\n",
      "Epoch 89 Loss is : 53.041361745336225\n",
      "Epoch 90 Loss is : 62.729323319661674\n",
      "Epoch 91 Loss is : 61.08059243684383\n",
      "Epoch 92 Loss is : 64.4782953693681\n",
      "Epoch 93 Loss is : 78.47185066335125\n",
      "Epoch 94 Loss is : 58.83638233828806\n",
      "Epoch 95 Loss is : 72.48705354922652\n",
      "Epoch 96 Loss is : 103.41338714311601\n",
      "Epoch 97 Loss is : 52.29207028553938\n",
      "Epoch 98 Loss is : 53.82944695200717\n",
      "Epoch 99 Loss is : 57.43515650823335\n"
     ]
    }
   ],
   "source": [
    "# Gradient Exploding?\n",
    "pr = PolynomialRegression(degrees=2, optimizer = 'SGD')\n",
    "pr.train(X, y, batch_size = 20, verbose = True,\n",
    "        epochs = 100, learning_rate = 0.01)"
   ]
  },
  {
   "cell_type": "code",
   "execution_count": 122,
   "id": "edc98ba8-ad47-4ed1-8fca-3db8e22898d3",
   "metadata": {},
   "outputs": [],
   "source": [
    "weights = pr.optimized_weights"
   ]
  },
  {
   "cell_type": "code",
   "execution_count": 123,
   "id": "9e4f4421-2e4b-4432-9d40-6c3b786e8c0b",
   "metadata": {},
   "outputs": [
    {
     "data": {
      "text/plain": [
       "array([[ 0.36234559],\n",
       "       [ 0.5348322 ],\n",
       "       [-0.19322209]])"
      ]
     },
     "execution_count": 123,
     "metadata": {},
     "output_type": "execute_result"
    }
   ],
   "source": [
    "weights"
   ]
  },
  {
   "cell_type": "code",
   "execution_count": 124,
   "id": "70830c0e-2690-493f-a72d-ba20323881f4",
   "metadata": {},
   "outputs": [],
   "source": [
    "X = pr.polynomial_transform(X)\n",
    "X = np.hstack((np.ones((X.shape[0], 1), dtype = X.dtype), X))"
   ]
  },
  {
   "cell_type": "code",
   "execution_count": 125,
   "id": "c149852e-30da-4672-b58f-7d5a36e3b5ce",
   "metadata": {},
   "outputs": [
    {
     "data": {
      "text/plain": [
       "<matplotlib.legend.Legend at 0x260e1599730>"
      ]
     },
     "execution_count": 125,
     "metadata": {},
     "output_type": "execute_result"
    },
    {
     "data": {
      "image/png": "[encoded data removed]",
      "text/plain": [
       "<Figure size 432x288 with 1 Axes>"
      ]
     },
     "metadata": {
      "needs_background": "light"
     },
     "output_type": "display_data"
    }
   ],
   "source": [
    "plt.plot(y, label = 'actuals')\n",
    "plt.plot((X @ weights), label = 'prediction')\n",
    "plt.legend()"
   ]
  },
  {
   "cell_type": "code",
   "execution_count": null,
   "id": "a9fa8c66-5606-4907-8594-680bbc939d4f",
   "metadata": {},
   "outputs": [],
   "source": []
  }
 ],
 "metadata": {
  "kernelspec": {
   "display_name": "Python 3 (ipykernel)",
   "language": "python",
   "name": "python3"
  },
  "language_info": {
   "codemirror_mode": {
    "name": "ipython",
    "version": 3
   },
   "file_extension": ".py",
   "mimetype": "text/x-python",
   "name": "python",
   "nbconvert_exporter": "python",
   "pygments_lexer": "ipython3",
   "version": "3.8.8"
  }
 },
 "nbformat": 4,
 "nbformat_minor": 5
}
