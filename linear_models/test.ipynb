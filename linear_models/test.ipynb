{
 "cells": [
  {
   "cell_type": "code",
   "execution_count": 1,
   "id": "a2dd760f-d475-4b49-9703-c71e6108006d",
   "metadata": {},
   "outputs": [],
   "source": [
    "from polynomial_regression import PolynomialRegression\n",
    "import matplotlib.pyplot as plt\n",
    "import numpy as np\n",
    "import pandas as pd\n",
    "from sklearn.model_selection import train_test_split"
   ]
  },
  {
   "cell_type": "code",
   "execution_count": 37,
   "id": "c5f0895e-ccee-4e0b-96d2-cc6655c7fd1c",
   "metadata": {},
   "outputs": [],
   "source": [
    "def non_linear(x):\n",
    "    return np.sin(x)"
   ]
  },
  {
   "cell_type": "code",
   "execution_count": 45,
   "id": "70f0abe1-3428-4ae0-9cd9-ea853dad5761",
   "metadata": {},
   "outputs": [],
   "source": [
    "def make_data(start, stop, sample, m, c):\n",
    "    X = np.linspace(start, stop, sample)\n",
    "    y = non_linear(X)\n",
    "\n",
    "    return X.reshape(-1,1) , np.array(y).reshape(-1,1)"
   ]
  },
  {
   "cell_type": "code",
   "execution_count": 46,
   "id": "b2b4f9f0-e379-47a7-90ba-5dced60b95ec",
   "metadata": {},
   "outputs": [],
   "source": [
    "X, y = make_data(0, 1, 10, 1, 0)"
   ]
  },
  {
   "cell_type": "code",
   "execution_count": 47,
   "id": "772387e6-2e62-4cad-8dfe-ced3e4eb5b23",
   "metadata": {},
   "outputs": [
    {
     "data": {
      "text/plain": [
       "array([[0.        ],\n",
       "       [0.11111111],\n",
       "       [0.22222222],\n",
       "       [0.33333333],\n",
       "       [0.44444444],\n",
       "       [0.55555556],\n",
       "       [0.66666667],\n",
       "       [0.77777778],\n",
       "       [0.88888889],\n",
       "       [1.        ]])"
      ]
     },
     "execution_count": 47,
     "metadata": {},
     "output_type": "execute_result"
    }
   ],
   "source": [
    "X"
   ]
  },
  {
   "cell_type": "code",
   "execution_count": 48,
   "id": "cf382788-58b6-4d1c-9ba2-6e9d9636de7a",
   "metadata": {},
   "outputs": [
    {
     "data": {
      "text/plain": [
       "[<matplotlib.lines.Line2D at 0x1f04c21f4c0>]"
      ]
     },
     "execution_count": 48,
     "metadata": {},
     "output_type": "execute_result"
    },
    {
     "data": {
      "image/png": "[encoded data removed]",
      "text/plain": [
       "<Figure size 432x288 with 1 Axes>"
      ]
     },
     "metadata": {
      "needs_background": "light"
     },
     "output_type": "display_data"
    }
   ],
   "source": [
    "plt.plot(y)"
   ]
  },
  {
   "cell_type": "code",
   "execution_count": null,
   "id": "24762ac6-b14e-4509-a143-3579f21cf309",
   "metadata": {},
   "outputs": [],
   "source": [
    "pr = PolynomialRegression(degrees=4, optimizer = 'GD')\n",
    "pr.train(X, y, batch_size = 2, verbose = True,\n",
    "        epochs = 20, learning_rate = 0.0001)"
   ]
  },
  {
   "cell_type": "code",
   "execution_count": 62,
   "id": "edc98ba8-ad47-4ed1-8fca-3db8e22898d3",
   "metadata": {},
   "outputs": [],
   "source": [
    "weights = pr.optimized_weights"
   ]
  },
  {
   "cell_type": "code",
   "execution_count": 63,
   "id": "70830c0e-2690-493f-a72d-ba20323881f4",
   "metadata": {},
   "outputs": [],
   "source": [
    "X = pr.polynomial_transform(X)\n",
    "X = np.hstack((np.ones((X.shape[0], 1),dtype = X.dtype), X))"
   ]
  },
  {
   "cell_type": "code",
   "execution_count": 64,
   "id": "c149852e-30da-4672-b58f-7d5a36e3b5ce",
   "metadata": {},
   "outputs": [
    {
     "name": "stderr",
     "output_type": "stream",
     "text": [
      "No handles with labels found to put in legend.\n"
     ]
    },
    {
     "data": {
      "text/plain": [
       "<matplotlib.legend.Legend at 0x1f04c3b3fa0>"
      ]
     },
     "execution_count": 64,
     "metadata": {},
     "output_type": "execute_result"
    },
    {
     "data": {
      "image/png": "[encoded data removed]",
      "text/plain": [
       "<Figure size 432x288 with 1 Axes>"
      ]
     },
     "metadata": {
      "needs_background": "light"
     },
     "output_type": "display_data"
    }
   ],
   "source": [
    "plt.plot((X @ weights))\n",
    "plt.plot(y)\n",
    "plt.legend()"
   ]
  },
  {
   "cell_type": "code",
   "execution_count": null,
   "id": "a9fa8c66-5606-4907-8594-680bbc939d4f",
   "metadata": {},
   "outputs": [],
   "source": []
  }
 ],
 "metadata": {
  "kernelspec": {
   "display_name": "Python 3 (ipykernel)",
   "language": "python",
   "name": "python3"
  },
  "language_info": {
   "codemirror_mode": {
    "name": "ipython",
    "version": 3
   },
   "file_extension": ".py",
   "mimetype": "text/x-python",
   "name": "python",
   "nbconvert_exporter": "python",
   "pygments_lexer": "ipython3",
   "version": "3.8.8"
  }
 },
 "nbformat": 4,
 "nbformat_minor": 5
}
