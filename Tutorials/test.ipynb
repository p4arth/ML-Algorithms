{
 "cells": [
  {
   "cell_type": "code",
   "execution_count": 1,
   "id": "2675d6a0-8d87-44e0-b13c-d458c755b823",
   "metadata": {
    "jupyter": {
     "source_hidden": true
    },
    "tags": []
   },
   "outputs": [],
   "source": [
    "import os\n",
    "import sys\n",
    "sys.path.insert(0, os.path.abspath(\"..\"))\n",
    "\n",
    "import matplotlib.pyplot as plt\n",
    "import numpy as np\n",
    "import pandas as pd\n",
    "import seaborn as sns\n",
    "from sklearn.model_selection import train_test_split\n",
    "# from sklearn.datasets import make_blobs\n",
    "\n",
    "# from svm.soft_margin_svm import SoftMarginSVM\n",
    "# from preprocessing.ohe import OneHotEncoder\n",
    "# from linear_models.classification.softmax_regression import SoftMaxRegression\n",
    "# from neighbors.knn_classifier import KNeighborsClassifier\n",
    "# from linear_models.classification.logistic_regression import LogisticRegression\n",
    "# from linear_models.regression.linear_regression import LinearRegression\n",
    "# from linear_models.classification.least_squares_classifier import LeastSquareClassifier\n",
    "# from classification.perceptron import Perceptron"
   ]
  },
  {
   "cell_type": "code",
   "execution_count": 2,
   "id": "75c0465d-8c5c-4c8c-b222-cfbaed12e1b9",
   "metadata": {
    "jupyter": {
     "source_hidden": true
    },
    "tags": []
   },
   "outputs": [],
   "source": [
    "def visualize_model(x_train, labels, model, degree = 1):\n",
    "    f = plt.figure(figsize = (8,8))\n",
    "    x1_min = np.min(x_train[:,0])\n",
    "    x1_max = np.max(x_train[:,0])\n",
    "    x2_min = np.min(x_train[:,1])\n",
    "    x2_max = np.max(x_train[:,1])\n",
    "    \n",
    "    x1_test, x2_test = np.meshgrid(np.linspace(x1_min, x1_max, 100), \n",
    "                                   np.linspace(x2_min, x2_max, 100))\n",
    "    x_test_poly = np.array([x1_test, x2_test]).reshape(2, -1).T\n",
    "    y_test = model.predict(x_test_poly)\n",
    "\n",
    "    flat_labels = labels.flatten()\n",
    "    sns.scatterplot(data = x_train, x = x_train[:,0], y = x_train[:,1], hue = labels)\n",
    "    plt.contourf(x1_test, x2_test, y_test.reshape(100,100), alpha = 0.5, levels = np.linspace(0,1,3))\n",
    "    plt.xlabel('$x_1$')\n",
    "    plt.ylabel('$x_2$')\n",
    "    plt.xlim(x1_min, x1_max)\n",
    "    plt.ylim(x2_min, x2_max)\n",
    "    plt.gca().set_aspect('equal', adjustable = 'box')\n",
    "    plt.show()"
   ]
  },
  {
   "cell_type": "code",
   "execution_count": 3,
   "id": "558dc2a0-645c-449b-b008-4dcdf8b9a888",
   "metadata": {},
   "outputs": [],
   "source": [
    "from trees.decision_tree_classifier import DecisionTreeClassifier"
   ]
  },
  {
   "cell_type": "code",
   "execution_count": 4,
   "id": "607c7587-c982-4555-bee9-d1bbd8907569",
   "metadata": {},
   "outputs": [],
   "source": [
    "from sklearn.datasets import load_iris\n",
    "X, y = load_iris(return_X_y = True)\n",
    "xtrain, xtest, ytrain, ytest = train_test_split(X, y, random_state = 42)"
   ]
  },
  {
   "cell_type": "code",
   "execution_count": 5,
   "id": "f1e409d1-21b8-40d1-8679-3ad306ddb1a0",
   "metadata": {},
   "outputs": [],
   "source": [
    "dt = DecisionTreeClassifier(max_depth = 10)\n",
    "dt.fit(xtrain, ytrain)"
   ]
  },
  {
   "cell_type": "code",
   "execution_count": 6,
   "id": "faa78e8a-00d3-42f0-8171-15746bdf4175",
   "metadata": {
    "tags": []
   },
   "outputs": [],
   "source": [
    "yhat = dt.predict(xtest)"
   ]
  },
  {
   "cell_type": "code",
   "execution_count": 7,
   "id": "c04177a8-9c24-46b5-8ed1-07661097a368",
   "metadata": {},
   "outputs": [
    {
     "name": "stdout",
     "output_type": "stream",
     "text": [
      "if Attr 2 <= 1.9\n",
      " left: --> (Class: 0.0)\n",
      " right: if Attr 2 <= 4.7\n",
      "  left: if Attr 3 <= 1.6\n",
      "    left: --> (Class: 1.0)\n",
      "    right: --> (Class: 2.0)\n",
      "  right: if Attr 3 <= 1.7\n",
      "    left: if Attr 2 <= 4.9\n",
      "        left: --> (Class: 1.0)\n",
      "        right: if Attr 3 <= 1.5\n",
      "                left: --> (Class: 2.0)\n",
      "                right: --> (Class: 1.0)\n",
      "    right: if Attr 2 <= 4.8\n",
      "        left: --> (Class: 2.0)\n",
      "        right: --> (Class: 2.0)\n"
     ]
    }
   ],
   "source": [
    "dt.print_tree()"
   ]
  },
  {
   "cell_type": "code",
   "execution_count": null,
   "id": "7209d21c-2371-40d4-a672-22b6601b4431",
   "metadata": {},
   "outputs": [],
   "source": []
  }
 ],
 "metadata": {
  "kernelspec": {
   "display_name": "Python 3 (ipykernel)",
   "language": "python",
   "name": "python3"
  },
  "language_info": {
   "codemirror_mode": {
    "name": "ipython",
    "version": 3
   },
   "file_extension": ".py",
   "mimetype": "text/x-python",
   "name": "python",
   "nbconvert_exporter": "python",
   "pygments_lexer": "ipython3",
   "version": "3.8.8"
  }
 },
 "nbformat": 4,
 "nbformat_minor": 5
}
