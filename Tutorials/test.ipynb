{
 "cells": [
  {
   "cell_type": "code",
   "execution_count": null,
   "id": "2675d6a0-8d87-44e0-b13c-d458c755b823",
   "metadata": {
    "jupyter": {
     "source_hidden": true
    },
    "tags": []
   },
   "outputs": [],
   "source": [
    "import os\n",
    "import sys\n",
    "sys.path.insert(0, os.path.abspath(\"..\"))\n",
    "\n",
    "import matplotlib.pyplot as plt\n",
    "import numpy as np\n",
    "import pandas as pd\n",
    "import seaborn as sns\n",
    "from sklearn.model_selection import train_test_split\n",
    "from sklearn.datasets import make_blobs\n",
    "\n",
    "from preprocessing.ohe import OneHotEncoder\n",
    "from linear_models.classification.softmax_regression import SoftMaxRegression\n",
    "# from neighbors.knn_classifier import KNeighborsClassifier\n",
    "# from linear_models.classification.logistic_regression import LogisticRegression\n",
    "# from linear_models.regression.linear_regression import LinearRegression\n",
    "# from linear_models.classification.least_squares_classifier import LeastSquareClassifier\n",
    "# from classification.perceptron import Perceptron"
   ]
  },
  {
   "cell_type": "code",
   "execution_count": null,
   "id": "4e867283-112b-485f-865d-f11f1096e1a1",
   "metadata": {},
   "outputs": [],
   "source": [
    "from sklearn.datasets import make_classification\n",
    "X, y = make_classification(n_samples=1000, random_state = 42,\n",
    "                           n_features=2, n_redundant=0, class_sep=0.7)\n",
    "# yohe = OneHotEncoder(y)\n",
    "x_train, x_test, y_train, y_test = train_test_split(X, y, test_size = 0.2, random_state=42)\n",
    "y_train = OneHotEncoder(y_train)"
   ]
  },
  {
   "cell_type": "code",
   "execution_count": null,
   "id": "451ca396-966b-4acf-ba58-5f438277f252",
   "metadata": {},
   "outputs": [],
   "source": [
    "sr = SoftMaxRegression(optimizer = 'GD')"
   ]
  },
  {
   "cell_type": "code",
   "execution_count": null,
   "id": "030d89e2-c0b1-4568-925d-677cc7ca5b48",
   "metadata": {
    "tags": []
   },
   "outputs": [],
   "source": [
    "sr.fit(x_train, y_train, verbose = False, epochs = 40, lr = 0.001)"
   ]
  },
  {
   "cell_type": "code",
   "execution_count": null,
   "id": "f88b2c6b-ef50-4006-852d-0e5bab592a1a",
   "metadata": {},
   "outputs": [],
   "source": [
    "yhat = sr.predict_probas(x_test)"
   ]
  },
  {
   "cell_type": "code",
   "execution_count": null,
   "id": "d8b439c3-5deb-485e-a808-629193e22829",
   "metadata": {},
   "outputs": [],
   "source": [
    "# from sklearn.metrics import classification_report\n",
    "# print(classification_report(y_test,yhat))"
   ]
  },
  {
   "cell_type": "code",
   "execution_count": null,
   "id": "ed3e8455-9419-4466-9a08-d1fe7ef6b4e4",
   "metadata": {},
   "outputs": [],
   "source": [
    "# Y = np.array([[1,0,0], \n",
    "#               [0,1,0], \n",
    "#               [0,0,1], \n",
    "#               [0,0,1]])\n",
    "# arr = np.array([\n",
    "#     [0.3792, 0.3104, 0.3104],\n",
    "#     [0.3072, 0.4147, 0.2780],\n",
    "#     [0.4263, 0.2248, 0.3490],\n",
    "#     [0.2668, 0.2978, 0.4354],\n",
    "# ])"
   ]
  },
  {
   "cell_type": "code",
   "execution_count": null,
   "id": "392b8692-c623-4d2e-8c41-d6c43c6e38f0",
   "metadata": {},
   "outputs": [],
   "source": [
    "# (1/arr.shape[0]) * np.sum(np.sum(Y * np.log(arr), axis=1))"
   ]
  },
  {
   "cell_type": "code",
   "execution_count": null,
   "id": "b1d73224-e060-47de-b744-a2fac8752579",
   "metadata": {},
   "outputs": [],
   "source": []
  }
 ],
 "metadata": {
  "kernelspec": {
   "display_name": "Python 3 (ipykernel)",
   "language": "python",
   "name": "python3"
  },
  "language_info": {
   "codemirror_mode": {
    "name": "ipython",
    "version": 3
   },
   "file_extension": ".py",
   "mimetype": "text/x-python",
   "name": "python",
   "nbconvert_exporter": "python",
   "pygments_lexer": "ipython3",
   "version": "3.8.8"
  }
 },
 "nbformat": 4,
 "nbformat_minor": 5
}
