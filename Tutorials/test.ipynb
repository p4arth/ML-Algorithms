{
 "cells": [
  {
   "cell_type": "code",
   "execution_count": 1,
   "id": "2675d6a0-8d87-44e0-b13c-d458c755b823",
   "metadata": {},
   "outputs": [],
   "source": [
    "import os\n",
    "import sys\n",
    "sys.path.insert(0, os.path.abspath(\"..\"))\n",
    "\n",
    "import matplotlib.pyplot as plt\n",
    "import numpy as np\n",
    "import pandas as pd\n",
    "import seaborn as sns\n",
    "from sklearn.model_selection import train_test_split\n",
    "\n",
    "from linear_models.classification.logistic_regression import LogisticRegression\n",
    "# # from polynomial_regression import PolynomialRegression\n",
    "from linear_models.regression.linear_regression import LinearRegression\n",
    "# from linear_models.classification.least_squares_classifier import LeastSquareClassifier\n",
    "# from classification.perceptron import Perceptron\n"
   ]
  },
  {
   "cell_type": "code",
   "execution_count": 2,
   "id": "8dfd1492-dc7e-4d2c-a74e-5af740ea6b71",
   "metadata": {},
   "outputs": [],
   "source": [
    "# from sklearn.datasets import make_regression\n",
    "# X, y = make_regression(n_samples=100, n_features=2)\n",
    "# lr = LinearRegression()\n",
    "# lr.fit(X,y)"
   ]
  },
  {
   "cell_type": "code",
   "execution_count": 3,
   "id": "c7def54f-e6f3-462b-83a5-3be1daeb062c",
   "metadata": {
    "tags": []
   },
   "outputs": [
    {
     "name": "stdout",
     "output_type": "stream",
     "text": [
      "The loss is -2.0319782462224105\n"
     ]
    }
   ],
   "source": [
    "from sklearn.datasets import make_classification\n",
    "X, y = make_classification(n_samples=100, n_features=2, n_redundant=0, class_sep=2)\n",
    "y = y.reshape(-1,1)\n",
    "lr = LogisticRegression(threshold=0.5, optimizer = 'SGD')\n",
    "lr.fit(X,y,verbose=False, epochs=20, lr=0.01, batch_size = 5,  fit_intercept = True)\n",
    "y_hat = lr.predict(X)"
   ]
  },
  {
   "cell_type": "code",
   "execution_count": 4,
   "id": "91e65b7c-4419-451d-a7c4-0b8d4416cf99",
   "metadata": {},
   "outputs": [],
   "source": [
    "# sns.scatterplot(data = X, x = X[:,0], y = X[:,1], hue = y.flatten())"
   ]
  },
  {
   "cell_type": "code",
   "execution_count": 5,
   "id": "044c912b-2af5-416e-a828-5325de9fecd5",
   "metadata": {},
   "outputs": [],
   "source": [
    "# sns.scatterplot(data = X, x = X[:,0], y = X[:,1], hue = y_hat.flatten())"
   ]
  },
  {
   "cell_type": "code",
   "execution_count": 6,
   "id": "42248bc2-1de9-4adb-bf65-9921d68232a0",
   "metadata": {},
   "outputs": [],
   "source": [
    "# plt.scatter(X, y)\n",
    "# y_hat = lin.predict(X)\n",
    "# plt.scatter(X, y_hat)"
   ]
  },
  {
   "cell_type": "code",
   "execution_count": null,
   "id": "8ad66e79-3f91-4a41-a1cd-4e6ae03077d6",
   "metadata": {},
   "outputs": [],
   "source": []
  },
  {
   "cell_type": "code",
   "execution_count": null,
   "id": "12bf9f3e-803f-455a-90c8-e68f66ebd193",
   "metadata": {},
   "outputs": [],
   "source": []
  }
 ],
 "metadata": {
  "kernelspec": {
   "display_name": "Python 3 (ipykernel)",
   "language": "python",
   "name": "python3"
  },
  "language_info": {
   "codemirror_mode": {
    "name": "ipython",
    "version": 3
   },
   "file_extension": ".py",
   "mimetype": "text/x-python",
   "name": "python",
   "nbconvert_exporter": "python",
   "pygments_lexer": "ipython3",
   "version": "3.8.8"
  }
 },
 "nbformat": 4,
 "nbformat_minor": 5
}
