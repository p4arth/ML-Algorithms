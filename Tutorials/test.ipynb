{
 "cells": [
  {
   "cell_type": "code",
   "execution_count": 1,
   "id": "2675d6a0-8d87-44e0-b13c-d458c755b823",
   "metadata": {
    "tags": []
   },
   "outputs": [],
   "source": [
    "import os\n",
    "import sys\n",
    "sys.path.insert(0, os.path.abspath(\"..\"))\n",
    "\n",
    "import matplotlib.pyplot as plt\n",
    "import numpy as np\n",
    "import pandas as pd\n",
    "import seaborn as sns\n",
    "from sklearn.model_selection import train_test_split\n",
    "from sklearn.datasets import make_blobs\n",
    "\n",
    "from preprocessing.ohe import OneHotEncoder\n",
    "from neighbors.knn_classifier import KNeighborsClassifier\n",
    "# from linear_models.classification.logistic_regression import LogisticRegression\n",
    "# from linear_models.regression.linear_regression import LinearRegression\n",
    "# from linear_models.classification.least_squares_classifier import LeastSquareClassifier\n",
    "# from classification.perceptron import Perceptron"
   ]
  },
  {
   "cell_type": "code",
   "execution_count": 2,
   "id": "edce6808-1884-4076-b59c-dedd7be69e45",
   "metadata": {},
   "outputs": [
    {
     "ename": "IndexError",
     "evalue": "index 3 is out of bounds for axis 0 with size 3",
     "output_type": "error",
     "traceback": [
      "\u001b[1;31m---------------------------------------------------------------------------\u001b[0m",
      "\u001b[1;31mIndexError\u001b[0m                                Traceback (most recent call last)",
      "\u001b[1;32m~\\AppData\\Local\\Temp/ipykernel_24964/2113604812.py\u001b[0m in \u001b[0;36m<module>\u001b[1;34m\u001b[0m\n\u001b[1;32m----> 1\u001b[1;33m \u001b[0mOneHotEncoder\u001b[0m\u001b[1;33m(\u001b[0m\u001b[1;33m[\u001b[0m\u001b[1;36m1\u001b[0m\u001b[1;33m,\u001b[0m\u001b[1;36m2\u001b[0m\u001b[1;33m,\u001b[0m\u001b[1;36m3\u001b[0m\u001b[1;33m,\u001b[0m\u001b[1;36m1\u001b[0m\u001b[1;33m]\u001b[0m\u001b[1;33m)\u001b[0m\u001b[1;33m\u001b[0m\u001b[1;33m\u001b[0m\u001b[0m\n\u001b[0m",
      "\u001b[1;32m~\\Desktop\\ML_Algorithms\\preprocessing\\ohe.py\u001b[0m in \u001b[0;36mOneHotEncoder\u001b[1;34m(labels)\u001b[0m\n\u001b[0;32m      2\u001b[0m \u001b[1;32mdef\u001b[0m \u001b[0mOneHotEncoder\u001b[0m\u001b[1;33m(\u001b[0m\u001b[0mlabels\u001b[0m\u001b[1;33m)\u001b[0m\u001b[1;33m:\u001b[0m\u001b[1;33m\u001b[0m\u001b[1;33m\u001b[0m\u001b[0m\n\u001b[0;32m      3\u001b[0m         \u001b[0mn_labels\u001b[0m \u001b[1;33m=\u001b[0m \u001b[0mnp\u001b[0m\u001b[1;33m.\u001b[0m\u001b[0mmax\u001b[0m\u001b[1;33m(\u001b[0m\u001b[0mlabels\u001b[0m\u001b[1;33m)\u001b[0m\u001b[1;33m\u001b[0m\u001b[1;33m\u001b[0m\u001b[0m\n\u001b[1;32m----> 4\u001b[1;33m         \u001b[1;32mreturn\u001b[0m \u001b[0mnp\u001b[0m\u001b[1;33m.\u001b[0m\u001b[0meye\u001b[0m\u001b[1;33m(\u001b[0m\u001b[0mn_labels\u001b[0m\u001b[1;33m)\u001b[0m\u001b[1;33m[\u001b[0m\u001b[0mlabels\u001b[0m\u001b[1;33m]\u001b[0m\u001b[1;33m\u001b[0m\u001b[1;33m\u001b[0m\u001b[0m\n\u001b[0m",
      "\u001b[1;31mIndexError\u001b[0m: index 3 is out of bounds for axis 0 with size 3"
     ]
    }
   ],
   "source": [
    "OneHotEncoder([1,2,3,1])"
   ]
  },
  {
   "cell_type": "code",
   "execution_count": null,
   "id": "3c0600d5-0903-416d-add6-0f970d7674bf",
   "metadata": {},
   "outputs": [],
   "source": [
    "# X, y = make_blobs(n_samples=10, centers=3, n_features=2)\n",
    "# x_pred, y = make_blobs(n_samples=1, centers=3, n_features=2)"
   ]
  },
  {
   "cell_type": "code",
   "execution_count": null,
   "id": "76c21493-ac40-4d54-b3a9-65b9b3ebf375",
   "metadata": {},
   "outputs": [],
   "source": [
    "# knn = KNeighborsClassifier(2, 'manhattan')\n",
    "# knn.fit(X, y)"
   ]
  },
  {
   "cell_type": "code",
   "execution_count": null,
   "id": "e93c1543-c1d6-4e51-913c-2ab4bb059532",
   "metadata": {},
   "outputs": [],
   "source": [
    "# knn.euclidian_distance(x_pred)"
   ]
  },
  {
   "cell_type": "code",
   "execution_count": null,
   "id": "7a4504c6-6593-49f8-98f4-00e65e388ff4",
   "metadata": {},
   "outputs": [],
   "source": [
    "# print(knn.distances)"
   ]
  },
  {
   "cell_type": "code",
   "execution_count": null,
   "id": "d11f2cf5-efea-4068-b309-ad0c6ca0cef2",
   "metadata": {},
   "outputs": [],
   "source": []
  },
  {
   "cell_type": "code",
   "execution_count": null,
   "id": "c8e2b10e-d414-42b5-9ce4-614f0316d178",
   "metadata": {},
   "outputs": [],
   "source": []
  },
  {
   "cell_type": "code",
   "execution_count": null,
   "id": "22465f1d-eb69-4cb9-87b9-26b585835b19",
   "metadata": {},
   "outputs": [],
   "source": []
  },
  {
   "cell_type": "code",
   "execution_count": null,
   "id": "7f6200e3-7e80-45f1-9b35-186e3536a87b",
   "metadata": {},
   "outputs": [],
   "source": []
  },
  {
   "cell_type": "code",
   "execution_count": null,
   "id": "8dfd1492-dc7e-4d2c-a74e-5af740ea6b71",
   "metadata": {},
   "outputs": [],
   "source": [
    "# from sklearn.datasets import make_regression\n",
    "# X, y = make_regression(n_samples=100, n_features=2)\n",
    "# lr = LinearRegression()\n",
    "# lr.fit(X,y)"
   ]
  },
  {
   "cell_type": "code",
   "execution_count": null,
   "id": "c7def54f-e6f3-462b-83a5-3be1daeb062c",
   "metadata": {
    "tags": []
   },
   "outputs": [],
   "source": [
    "# from sklearn.datasets import make_classification\n",
    "# X, y = make_classification(n_samples=100, n_features=2, n_redundant=0, class_sep=2)\n",
    "# y = y.reshape(-1,1)\n",
    "# lr = LogisticRegression(threshold=0.5, optimizer = 'SGD')\n",
    "# lr.fit(X,y,verbose=False, epochs=20, lr=0.01, batch_size = 5,  fit_intercept = True)\n",
    "# y_hat = lr.predict(X)"
   ]
  },
  {
   "cell_type": "code",
   "execution_count": null,
   "id": "91e65b7c-4419-451d-a7c4-0b8d4416cf99",
   "metadata": {},
   "outputs": [],
   "source": [
    "# sns.scatterplot(data = X, x = X[:,0], y = X[:,1], hue = y.flatten())"
   ]
  },
  {
   "cell_type": "code",
   "execution_count": null,
   "id": "044c912b-2af5-416e-a828-5325de9fecd5",
   "metadata": {},
   "outputs": [],
   "source": [
    "# sns.scatterplot(data = X, x = X[:,0], y = X[:,1], hue = y_hat.flatten())"
   ]
  },
  {
   "cell_type": "code",
   "execution_count": null,
   "id": "42248bc2-1de9-4adb-bf65-9921d68232a0",
   "metadata": {},
   "outputs": [],
   "source": [
    "# plt.scatter(X, y)\n",
    "# y_hat = lin.predict(X)\n",
    "# plt.scatter(X, y_hat)"
   ]
  },
  {
   "cell_type": "code",
   "execution_count": null,
   "id": "8ad66e79-3f91-4a41-a1cd-4e6ae03077d6",
   "metadata": {},
   "outputs": [],
   "source": []
  },
  {
   "cell_type": "code",
   "execution_count": null,
   "id": "12bf9f3e-803f-455a-90c8-e68f66ebd193",
   "metadata": {},
   "outputs": [],
   "source": []
  }
 ],
 "metadata": {
  "kernelspec": {
   "display_name": "Python 3 (ipykernel)",
   "language": "python",
   "name": "python3"
  },
  "language_info": {
   "codemirror_mode": {
    "name": "ipython",
    "version": 3
   },
   "file_extension": ".py",
   "mimetype": "text/x-python",
   "name": "python",
   "nbconvert_exporter": "python",
   "pygments_lexer": "ipython3",
   "version": "3.8.8"
  }
 },
 "nbformat": 4,
 "nbformat_minor": 5
}
