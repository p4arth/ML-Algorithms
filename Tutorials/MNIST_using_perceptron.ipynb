{
 "cells": [
  {
   "cell_type": "code",
   "execution_count": 25,
   "id": "b9764807-78a1-4b24-b789-d78a0c4acc4c",
   "metadata": {
    "tags": []
   },
   "outputs": [],
   "source": [
    "from sklearn.datasets import load_digits\n",
    "from sklearn.model_selection import train_test_split\n",
    "from sklearn.datasets import make_classification\n",
    "import matplotlib.pyplot as plt\n",
    "import seaborn as sns\n",
    "import numpy as np\n",
    "from sklearn.metrics import ConfusionMatrixDisplay\n",
    "from linear_models.classification.perceptron import Perceptron"
   ]
  },
  {
   "cell_type": "code",
   "execution_count": 26,
   "id": "a9ee46ae-00ff-4751-b3e6-03a8be2afa45",
   "metadata": {
    "tags": []
   },
   "outputs": [],
   "source": [
    "digits = load_digits()"
   ]
  },
  {
   "cell_type": "code",
   "execution_count": 27,
   "id": "13f79114-2039-4681-8ed3-d4f12ba26e70",
   "metadata": {
    "tags": []
   },
   "outputs": [
    {
     "name": "stdout",
     "output_type": "stream",
     "text": [
      "------------\n",
      "The binary-classification is between (9, 0)\n",
      "The # misclassified points for epoch 0 are 12\n",
      "The # misclassified points for epoch 1 are 2\n",
      "The # misclassified points for epoch 2 are 0\n",
      "------------\n",
      "The binary-classification is between (9, 1)\n",
      "The # misclassified points for epoch 0 are 23\n",
      "The # misclassified points for epoch 1 are 8\n",
      "The # misclassified points for epoch 2 are 2\n",
      "The # misclassified points for epoch 3 are 4\n",
      "The # misclassified points for epoch 4 are 5\n",
      "The # misclassified points for epoch 5 are 3\n",
      "The # misclassified points for epoch 6 are 2\n",
      "The # misclassified points for epoch 7 are 0\n",
      "------------\n",
      "The binary-classification is between (9, 2)\n",
      "The # misclassified points for epoch 0 are 14\n",
      "The # misclassified points for epoch 1 are 0\n",
      "------------\n",
      "The binary-classification is between (9, 3)\n",
      "The # misclassified points for epoch 0 are 31\n",
      "The # misclassified points for epoch 1 are 12\n",
      "The # misclassified points for epoch 2 are 11\n",
      "The # misclassified points for epoch 3 are 10\n",
      "The # misclassified points for epoch 4 are 10\n",
      "The # misclassified points for epoch 5 are 7\n",
      "The # misclassified points for epoch 6 are 3\n",
      "The # misclassified points for epoch 7 are 4\n",
      "The # misclassified points for epoch 8 are 4\n",
      "The # misclassified points for epoch 9 are 4\n",
      "The # misclassified points for epoch 10 are 4\n",
      "The # misclassified points for epoch 11 are 5\n",
      "The # misclassified points for epoch 12 are 2\n",
      "The # misclassified points for epoch 13 are 2\n",
      "The # misclassified points for epoch 14 are 0\n",
      "------------\n",
      "The binary-classification is between (9, 4)\n",
      "The # misclassified points for epoch 0 are 19\n",
      "The # misclassified points for epoch 1 are 7\n",
      "The # misclassified points for epoch 2 are 4\n",
      "The # misclassified points for epoch 3 are 0\n",
      "------------\n",
      "The binary-classification is between (9, 5)\n",
      "The # misclassified points for epoch 0 are 33\n",
      "The # misclassified points for epoch 1 are 15\n",
      "The # misclassified points for epoch 2 are 6\n",
      "The # misclassified points for epoch 3 are 8\n",
      "The # misclassified points for epoch 4 are 5\n",
      "The # misclassified points for epoch 5 are 5\n",
      "The # misclassified points for epoch 6 are 2\n",
      "The # misclassified points for epoch 7 are 9\n",
      "The # misclassified points for epoch 8 are 7\n",
      "The # misclassified points for epoch 9 are 11\n",
      "The # misclassified points for epoch 10 are 4\n",
      "The # misclassified points for epoch 11 are 4\n",
      "The # misclassified points for epoch 12 are 2\n",
      "The # misclassified points for epoch 13 are 0\n",
      "------------\n",
      "The binary-classification is between (9, 6)\n",
      "The # misclassified points for epoch 0 are 6\n",
      "The # misclassified points for epoch 1 are 0\n",
      "------------\n",
      "The binary-classification is between (9, 7)\n",
      "The # misclassified points for epoch 0 are 24\n",
      "The # misclassified points for epoch 1 are 6\n",
      "The # misclassified points for epoch 2 are 4\n",
      "The # misclassified points for epoch 3 are 4\n",
      "The # misclassified points for epoch 4 are 6\n",
      "The # misclassified points for epoch 5 are 5\n",
      "The # misclassified points for epoch 6 are 2\n",
      "The # misclassified points for epoch 7 are 0\n",
      "------------\n",
      "The binary-classification is between (9, 8)\n",
      "The # misclassified points for epoch 0 are 35\n",
      "The # misclassified points for epoch 1 are 12\n",
      "The # misclassified points for epoch 2 are 8\n",
      "The # misclassified points for epoch 3 are 14\n",
      "The # misclassified points for epoch 4 are 8\n",
      "The # misclassified points for epoch 5 are 5\n",
      "The # misclassified points for epoch 6 are 8\n",
      "The # misclassified points for epoch 7 are 4\n",
      "The # misclassified points for epoch 8 are 2\n",
      "The # misclassified points for epoch 9 are 0\n",
      "------------\n",
      "The binary-classification is between (9, 9)\n",
      "The # misclassified points for epoch 0 are 1\n",
      "The # misclassified points for epoch 1 are 0\n"
     ]
    }
   ],
   "source": [
    "# choosing the first digit to have in the dataset\n",
    "n_pos_label = 9\n",
    "\n",
    "# comparing how the classifier is doing when compared with every other digit\n",
    "for j in range(10):\n",
    "    print('------------')\n",
    "    X = []\n",
    "    y = []\n",
    "    print(f'The binary-classification is between {(n_pos_label, j)}')\n",
    "    for i in range(digits.target.shape[0]):\n",
    "        \n",
    "        # 1 if image label = n_pos_label\n",
    "        if digits.target[i] == n_pos_label:\n",
    "            X.append(digits.images[i])\n",
    "            y.append(-1)\n",
    "            \n",
    "        # -1 if image label = j\n",
    "        elif digits.target[i] == j:\n",
    "            X.append(digits.images[i])\n",
    "            y.append(1)\n",
    "\n",
    "    \n",
    "    # flattening the images --> (nsamples, n_features)\n",
    "    n_samples = len(X)\n",
    "    X = np.array(X).reshape((n_samples,-1))\n",
    "    y = np.array(y).reshape(-1,1)\n",
    "    \n",
    "    # initialzing the perceptron model from 'github.com/p4arth/ML-Algorithms/blob/master/linear_models/classification/perceptron.py'\n",
    "    model = Perceptron()\n",
    "    model.fit(X, y, epochs=20)"
   ]
  },
  {
   "cell_type": "code",
   "execution_count": null,
   "id": "eecc5532-9964-4190-98c6-0a7f479ec0c9",
   "metadata": {},
   "outputs": [],
   "source": []
  },
  {
   "cell_type": "code",
   "execution_count": null,
   "id": "e2b59639-3297-440d-a893-e30854a0aee0",
   "metadata": {},
   "outputs": [],
   "source": []
  }
 ],
 "metadata": {
  "kernelspec": {
   "display_name": "Python 3 (ipykernel)",
   "language": "python",
   "name": "python3"
  },
  "language_info": {
   "codemirror_mode": {
    "name": "ipython",
    "version": 3
   },
   "file_extension": ".py",
   "mimetype": "text/x-python",
   "name": "python",
   "nbconvert_exporter": "python",
   "pygments_lexer": "ipython3",
   "version": "3.8.8"
  }
 },
 "nbformat": 4,
 "nbformat_minor": 5
}
