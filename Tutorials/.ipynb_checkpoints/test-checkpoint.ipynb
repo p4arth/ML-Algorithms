{
 "cells": [
  {
   "cell_type": "code",
   "execution_count": 1,
   "id": "2675d6a0-8d87-44e0-b13c-d458c755b823",
   "metadata": {
    "jupyter": {
     "source_hidden": true
    },
    "tags": []
   },
   "outputs": [],
   "source": [
    "import os\n",
    "import sys\n",
    "sys.path.insert(0, os.path.abspath(\"..\"))\n",
    "\n",
    "import matplotlib.pyplot as plt\n",
    "import numpy as np\n",
    "import pandas as pd\n",
    "import seaborn as sns\n",
    "from sklearn.model_selection import train_test_split\n",
    "# from sklearn.datasets import make_blobs\n",
    "\n",
    "# from svm.soft_margin_svm import SoftMarginSVM\n",
    "# from preprocessing.ohe import OneHotEncoder\n",
    "# from linear_models.classification.softmax_regression import SoftMaxRegression\n",
    "# from neighbors.knn_classifier import KNeighborsClassifier\n",
    "# from linear_models.classification.logistic_regression import LogisticRegression\n",
    "# from linear_models.regression.linear_regression import LinearRegression\n",
    "# from linear_models.classification.least_squares_classifier import LeastSquareClassifier\n",
    "# from classification.perceptron import Perceptron"
   ]
  },
  {
   "cell_type": "code",
   "execution_count": 2,
   "id": "75c0465d-8c5c-4c8c-b222-cfbaed12e1b9",
   "metadata": {
    "jupyter": {
     "source_hidden": true
    },
    "tags": []
   },
   "outputs": [],
   "source": [
    "def visualize_model(x_train, labels, model, degree = 1):\n",
    "    f = plt.figure(figsize = (8,8))\n",
    "    x1_min = np.min(x_train[:,0])\n",
    "    x1_max = np.max(x_train[:,0])\n",
    "    x2_min = np.min(x_train[:,1])\n",
    "    x2_max = np.max(x_train[:,1])\n",
    "    \n",
    "    x1_test, x2_test = np.meshgrid(np.linspace(x1_min, x1_max, 100), \n",
    "                                   np.linspace(x2_min, x2_max, 100))\n",
    "    x_test_poly = np.array([x1_test, x2_test]).reshape(2, -1).T\n",
    "    y_test = model.predict(x_test_poly)\n",
    "\n",
    "    flat_labels = labels.flatten()\n",
    "    sns.scatterplot(data = x_train, x = x_train[:,0], y = x_train[:,1], hue = labels)\n",
    "    plt.contourf(x1_test, x2_test, y_test.reshape(100,100), alpha = 0.5, levels = np.linspace(0,1,3))\n",
    "    plt.xlabel('$x_1$')\n",
    "    plt.ylabel('$x_2$')\n",
    "    plt.xlim(x1_min, x1_max)\n",
    "    plt.ylim(x2_min, x2_max)\n",
    "    plt.gca().set_aspect('equal', adjustable = 'box')\n",
    "    plt.show()"
   ]
  },
  {
   "cell_type": "code",
   "execution_count": 3,
   "id": "558dc2a0-645c-449b-b008-4dcdf8b9a888",
   "metadata": {},
   "outputs": [],
   "source": [
    "from neighbors.knn_regressor import KNeighborsRegressor"
   ]
  },
  {
   "cell_type": "code",
   "execution_count": 10,
   "id": "607c7587-c982-4555-bee9-d1bbd8907569",
   "metadata": {},
   "outputs": [],
   "source": [
    "from sklearn.datasets import make_blobs\n",
    "X, _ = make_blobs(n_features = 2, centers = 2)\n",
    "xtrain, xtest, ytrain, ytest = train_test_split(X[:,0], X[:,1], random_state = 42)"
   ]
  },
  {
   "cell_type": "code",
   "execution_count": 13,
   "id": "f1e409d1-21b8-40d1-8679-3ad306ddb1a0",
   "metadata": {},
   "outputs": [],
   "source": [
    "kn = KNeighborsRegressor(n_neighbors = 3,\n",
    "                 distance_metric = 'Euclidian')\n",
    "kn.fit(xtrain, ytrain)"
   ]
  },
  {
   "cell_type": "code",
   "execution_count": 15,
   "id": "faa78e8a-00d3-42f0-8171-15746bdf4175",
   "metadata": {
    "tags": []
   },
   "outputs": [],
   "source": [
    "yhat = kn.predict(xtest)"
   ]
  },
  {
   "cell_type": "code",
   "execution_count": 18,
   "id": "547bdbe3-270a-46ff-9fef-73489f4b166e",
   "metadata": {},
   "outputs": [
    {
     "data": {
      "text/plain": [
       "<matplotlib.collections.PathCollection at 0x2d38e69a310>"
      ]
     },
     "execution_count": 18,
     "metadata": {},
     "output_type": "execute_result"
    },
    {
     "data": {
      "image/png": "[encoded data removed]",
      "text/plain": [
       "<Figure size 432x288 with 1 Axes>"
      ]
     },
     "metadata": {
      "needs_background": "light"
     },
     "output_type": "display_data"
    }
   ],
   "source": [
    "plt.scatter(xtest, ytest)\n",
    "plt.scatter(xtest, yhat)"
   ]
  },
  {
   "cell_type": "code",
   "execution_count": 16,
   "id": "709ca4bc-6ed1-456c-a3c4-39a2c86699cd",
   "metadata": {},
   "outputs": [
    {
     "data": {
      "text/plain": [
       "array([-1.15748413,  4.02113647, -0.13050335, -0.61594544,  2.57050993,\n",
       "       -0.13958874, -0.92679063, -0.31934204, -0.13958874, -0.8996569 ,\n",
       "        4.19648017, -0.92679063, -1.42021773, -1.32259398, -0.13050335,\n",
       "        4.20503534,  3.84931321, -0.31934204, -0.80488087, -0.40269879,\n",
       "       -0.31934204, -0.8996569 ,  4.02113647,  3.14177128,  0.42060414])"
      ]
     },
     "execution_count": 16,
     "metadata": {},
     "output_type": "execute_result"
    }
   ],
   "source": [
    "yhat"
   ]
  },
  {
   "cell_type": "code",
   "execution_count": 7,
   "id": "c5fc3a72-e90d-4311-b77a-c3097003565a",
   "metadata": {},
   "outputs": [
    {
     "data": {
      "text/plain": [
       "<matplotlib.collections.PathCollection at 0x197dbe219d0>"
      ]
     },
     "execution_count": 7,
     "metadata": {},
     "output_type": "execute_result"
    },
    {
     "data": {
      "image/png": "[encoded data removed]",
      "text/plain": [
       "<Figure size 432x288 with 1 Axes>"
      ]
     },
     "metadata": {
      "needs_background": "light"
     },
     "output_type": "display_data"
    }
   ],
   "source": [
    "plt.scatter(xtest, yhat)"
   ]
  },
  {
   "cell_type": "code",
   "execution_count": 8,
   "id": "1019032f-1674-4349-8003-5aa3a898f5fe",
   "metadata": {},
   "outputs": [
    {
     "data": {
      "text/plain": [
       "<matplotlib.collections.PathCollection at 0x197dbf30dc0>"
      ]
     },
     "execution_count": 8,
     "metadata": {},
     "output_type": "execute_result"
    },
    {
     "data": {
      "image/png": "[encoded data removed]",
      "text/plain": [
       "<Figure size 432x288 with 1 Axes>"
      ]
     },
     "metadata": {
      "needs_background": "light"
     },
     "output_type": "display_data"
    }
   ],
   "source": [
    "plt.scatter(xtest, ytest)"
   ]
  },
  {
   "cell_type": "code",
   "execution_count": 9,
   "id": "7209d21c-2371-40d4-a672-22b6601b4431",
   "metadata": {},
   "outputs": [
    {
     "data": {
      "text/plain": [
       "17491.143331760562"
      ]
     },
     "execution_count": 9,
     "metadata": {},
     "output_type": "execute_result"
    }
   ],
   "source": [
    "from sklearn.metrics import mean_squared_error\n",
    "mean_squared_error(ytest, yhat)"
   ]
  },
  {
   "cell_type": "code",
   "execution_count": null,
   "id": "24478999-2a4a-425c-bbbb-ebe70c6c918f",
   "metadata": {},
   "outputs": [],
   "source": []
  }
 ],
 "metadata": {
  "kernelspec": {
   "display_name": "Python 3 (ipykernel)",
   "language": "python",
   "name": "python3"
  },
  "language_info": {
   "codemirror_mode": {
    "name": "ipython",
    "version": 3
   },
   "file_extension": ".py",
   "mimetype": "text/x-python",
   "name": "python",
   "nbconvert_exporter": "python",
   "pygments_lexer": "ipython3",
   "version": "3.8.8"
  }
 },
 "nbformat": 4,
 "nbformat_minor": 5
}
