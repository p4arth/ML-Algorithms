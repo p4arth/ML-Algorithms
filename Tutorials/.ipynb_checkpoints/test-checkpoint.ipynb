{
 "cells": [
  {
   "cell_type": "code",
   "execution_count": 1,
   "id": "2675d6a0-8d87-44e0-b13c-d458c755b823",
   "metadata": {
    "jupyter": {
     "source_hidden": true
    },
    "tags": []
   },
   "outputs": [],
   "source": [
    "import os\n",
    "import sys\n",
    "sys.path.insert(0, os.path.abspath(\"..\"))\n",
    "\n",
    "import matplotlib.pyplot as plt\n",
    "import numpy as np\n",
    "import pandas as pd\n",
    "import seaborn as sns\n",
    "# from sklearn.model_selection import train_test_split\n",
    "# from sklearn.datasets import make_blobs\n",
    "\n",
    "# from svm.soft_margin_svm import SoftMarginSVM\n",
    "# from preprocessing.ohe import OneHotEncoder\n",
    "# from linear_models.classification.softmax_regression import SoftMaxRegression\n",
    "# from neighbors.knn_classifier import KNeighborsClassifier\n",
    "# from linear_models.classification.logistic_regression import LogisticRegression\n",
    "# from linear_models.regression.linear_regression import LinearRegression\n",
    "# from linear_models.classification.least_squares_classifier import LeastSquareClassifier\n",
    "# from classification.perceptron import Perceptron"
   ]
  },
  {
   "cell_type": "code",
   "execution_count": 2,
   "id": "75c0465d-8c5c-4c8c-b222-cfbaed12e1b9",
   "metadata": {
    "jupyter": {
     "source_hidden": true
    },
    "tags": []
   },
   "outputs": [],
   "source": [
    "def visualize_model(x_train, labels, model, degree = 1):\n",
    "    f = plt.figure(figsize = (8,8))\n",
    "    x1_min = np.min(x_train[:,0])\n",
    "    x1_max = np.max(x_train[:,0])\n",
    "    x2_min = np.min(x_train[:,1])\n",
    "    x2_max = np.max(x_train[:,1])\n",
    "    \n",
    "    x1_test, x2_test = np.meshgrid(np.linspace(x1_min, x1_max, 100), \n",
    "                                   np.linspace(x2_min, x2_max, 100))\n",
    "    x_test_poly = np.array([x1_test, x2_test]).reshape(2, -1).T\n",
    "    y_test = model.predict(x_test_poly)\n",
    "\n",
    "    flat_labels = labels.flatten()\n",
    "    sns.scatterplot(data = x_train, x = x_train[:,0], y = x_train[:,1], hue = labels)\n",
    "    plt.contourf(x1_test, x2_test, y_test.reshape(100,100), alpha = 0.5, levels = np.linspace(0,1,3))\n",
    "    plt.xlabel('$x_1$')\n",
    "    plt.ylabel('$x_2$')\n",
    "    plt.xlim(x1_min, x1_max)\n",
    "    plt.ylim(x2_min, x2_max)\n",
    "    plt.gca().set_aspect('equal', adjustable = 'box')\n",
    "    plt.show()"
   ]
  },
  {
   "cell_type": "code",
   "execution_count": 3,
   "id": "bff3c01d-ccb0-416c-8adb-82dff4bc86c4",
   "metadata": {},
   "outputs": [],
   "source": [
    "from sklearn.datasets import load_iris\n",
    "X, y = load_iris(return_X_y = True)"
   ]
  },
  {
   "cell_type": "code",
   "execution_count": 4,
   "id": "1357c4ef-622e-43bc-ac9c-cbf99d19c80a",
   "metadata": {},
   "outputs": [],
   "source": [
    "# correct this code\n",
    "class Node():\n",
    "    def __init__(self, \n",
    "                 attribute_name = None,\n",
    "                 threshold = None,\n",
    "                 left_child = None, \n",
    "                 right_child = None):\n",
    "        self.attribute_name = attribute_name\n",
    "        if attribute_name:\n",
    "            self.threshold = threshold\n",
    "            self.left_child = Node()\n",
    "            self.right_child = Node()\n",
    "        "
   ]
  },
  {
   "cell_type": "code",
   "execution_count": 85,
   "id": "37f6d18c-fdf1-4a97-91c7-a2fe2c33f605",
   "metadata": {},
   "outputs": [],
   "source": [
    "class DecisionTreeClassifier():\n",
    "    def __init__(self, \n",
    "                 min_samples_split = 4,\n",
    "                 max_depth = 5):\n",
    "        self.min_samples_split = min_samples_split\n",
    "        self.max_depth = max_depth\n",
    "\n",
    "    def make_tree(self,  X, y, depth=0):\n",
    "        if len(X) > self.min_samples_split and self.max_depth != depth:\n",
    "            best_split = self.get_best_split(X, y)\n",
    "            if best_split['Information_gain'] > 0:\n",
    "                left_child = self.make_tree(best_split['X_left_data'], \n",
    "                                                 best_split['y_left_data'],\n",
    "                                                 depth + 1)\n",
    "                right_child = self.make_tree(best_split['X_right_data'], \n",
    "                                                  best_split['y_right_data'],\n",
    "                                                  depth + 1)\n",
    "                return Node(\n",
    "                    attribute_name = best_split['Attribute'],\n",
    "                    threshold = best_split['Threshold'],\n",
    "                    left_child = left_child,\n",
    "                    right_child = right_child\n",
    "                )\n",
    "\n",
    "        leaf_value = self.get_leaf_value(y)\n",
    "        print(leaf_value)\n",
    "        return Node(attribute_name = leaf_value)\n",
    "    \n",
    "    def get_best_split(self, X, y):\n",
    "        max_information_gain = -float('inf')\n",
    "        best_threshold = 0\n",
    "        attribute = 0\n",
    "        \n",
    "        for i in range(X.shape[1]):\n",
    "            uniq_thresholds = np.unique(X[:, i])\n",
    "            for threshold in uniq_thresholds:\n",
    "                X_left, X_right, y_left, y_right = self.split(X, y, i, threshold)\n",
    "                information_gain = self.calculate_information_gain(y, y_left, y_right)\n",
    "                if information_gain > max_information_gain:\n",
    "                    attribute = i\n",
    "                    max_information_gain = information_gain\n",
    "                    best_threshold = threshold\n",
    "                    X_left_data = X_left\n",
    "                    X_right_data = X_right\n",
    "                    y_left_data = y_left\n",
    "                    y_right_data = y_right\n",
    "        best_split = {\n",
    "            'Attribute': attribute,\n",
    "            'Information_gain': max_information_gain,\n",
    "            'Threshold': best_threshold,\n",
    "            'X_left_data': X_left_data,\n",
    "            'X_right_data': X_right_data,\n",
    "            'y_left_data': y_left_data,\n",
    "            'y_right_data': y_right_data\n",
    "        }\n",
    "        return best_split\n",
    "    \n",
    "    def split(self, X, y, i, threshold):\n",
    "        temp_d = np.column_stack((X, y))\n",
    "        d_left = temp_d[temp_d[:, i] <= threshold]\n",
    "        d_right = temp_d[temp_d[:, i] > threshold]\n",
    "        return d_left[:,:-1], d_right[:,:-1], d_left[:,-1], d_right[:,-1]\n",
    "    \n",
    "    def get_leaf_value(self, y):\n",
    "        try:\n",
    "            return np.argmax(np.unique(y, return_counts=True)[0])\n",
    "        except:\n",
    "            return None\n",
    "    \n",
    "    def calculate_information_gain(self, y, y_left, y_right):\n",
    "        wleft = len(y_left)/len(y)\n",
    "        wright = len(y_right)/len(y)\n",
    "        return self.gini_index(y) - ((wleft*self.gini_index(y_left)) + (wright*self.gini_index(y_right)))\n",
    "    \n",
    "    def gini_index(self, y):\n",
    "        classes = np.unique(y)\n",
    "        gini = 0\n",
    "        for cl in classes:\n",
    "            pr = len(y[y==cl]) / len(y)\n",
    "            gini = gini + pr**2\n",
    "        return 1 - gini\n",
    "    \n",
    "    def print_tree(self, node):\n",
    "        if node.left_child == None and node.right_child == None:\n",
    "            return [(node.attribute_name)]\n",
    "        else:\n",
    "            return [(node.threshold, node.attribute_name, node.threshold)] + self.print_tree(node.left_child) +  self.print_tree(node.right_child)"
   ]
  },
  {
   "cell_type": "code",
   "execution_count": 86,
   "id": "faa78e8a-00d3-42f0-8171-15746bdf4175",
   "metadata": {
    "tags": []
   },
   "outputs": [
    {
     "name": "stdout",
     "output_type": "stream",
     "text": [
      "0\n",
      "0\n",
      "0\n",
      "0\n",
      "1\n",
      "1\n",
      "0\n"
     ]
    }
   ],
   "source": [
    "dt = DecisionTreeClassifier(max_depth = 10)\n",
    "tree = dt.make_tree(X, y)\n",
    "tl = dt.print_tree(tree)"
   ]
  },
  {
   "cell_type": "code",
   "execution_count": 84,
   "id": "4dc79eec-28a6-4327-a3f7-d79911db8476",
   "metadata": {},
   "outputs": [
    {
     "data": {
      "text/plain": [
       "[(1.9, 2, 1.9),\n",
       " 0,\n",
       " (1.7, 3, 1.7),\n",
       " (4.9, 2, 4.9),\n",
       " (1.6, 3, 1.6),\n",
       " 0,\n",
       " 0,\n",
       " (1.5, 3, 1.5),\n",
       " 0,\n",
       " 1,\n",
       " (4.8, 2, 4.8),\n",
       " 1,\n",
       " 0]"
      ]
     },
     "execution_count": 84,
     "metadata": {},
     "output_type": "execute_result"
    }
   ],
   "source": [
    "tl"
   ]
  },
  {
   "cell_type": "code",
   "execution_count": 60,
   "id": "a4deea3f-d615-477a-8f1d-ffc9b04c6ccc",
   "metadata": {},
   "outputs": [
    {
     "name": "stdout",
     "output_type": "stream",
     "text": [
      "None\n"
     ]
    }
   ],
   "source": [
    "print(dt.tree[2].left_child)"
   ]
  },
  {
   "cell_type": "code",
   "execution_count": 32,
   "id": "32dd115a-f82f-4db8-ac6d-ad7d0607dd75",
   "metadata": {},
   "outputs": [
    {
     "name": "stdout",
     "output_type": "stream",
     "text": [
      "2\n"
     ]
    }
   ],
   "source": [
    "print(tree.attribute_name)"
   ]
  },
  {
   "cell_type": "code",
   "execution_count": null,
   "id": "7209d21c-2371-40d4-a672-22b6601b4431",
   "metadata": {},
   "outputs": [],
   "source": []
  }
 ],
 "metadata": {
  "kernelspec": {
   "display_name": "Python 3 (ipykernel)",
   "language": "python",
   "name": "python3"
  },
  "language_info": {
   "codemirror_mode": {
    "name": "ipython",
    "version": 3
   },
   "file_extension": ".py",
   "mimetype": "text/x-python",
   "name": "python",
   "nbconvert_exporter": "python",
   "pygments_lexer": "ipython3",
   "version": "3.8.8"
  }
 },
 "nbformat": 4,
 "nbformat_minor": 5
}
