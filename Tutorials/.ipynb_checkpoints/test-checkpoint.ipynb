{
 "cells": [
  {
   "cell_type": "code",
   "execution_count": 1,
   "id": "2675d6a0-8d87-44e0-b13c-d458c755b823",
   "metadata": {
    "jupyter": {
     "source_hidden": true
    },
    "tags": []
   },
   "outputs": [],
   "source": [
    "import os\n",
    "import sys\n",
    "sys.path.insert(0, os.path.abspath(\"..\"))\n",
    "\n",
    "import matplotlib.pyplot as plt\n",
    "import numpy as np\n",
    "import pandas as pd\n",
    "import seaborn as sns\n",
    "# from sklearn.model_selection import train_test_split\n",
    "# from sklearn.datasets import make_blobs\n",
    "\n",
    "# from svm.soft_margin_svm import SoftMarginSVM\n",
    "# from preprocessing.ohe import OneHotEncoder\n",
    "# from linear_models.classification.softmax_regression import SoftMaxRegression\n",
    "# from neighbors.knn_classifier import KNeighborsClassifier\n",
    "# from linear_models.classification.logistic_regression import LogisticRegression\n",
    "# from linear_models.regression.linear_regression import LinearRegression\n",
    "from linear_models.classification.least_squares_classifier import LeastSquareClassifier\n",
    "# from classification.perceptron import Perceptron"
   ]
  },
  {
   "cell_type": "code",
   "execution_count": 2,
   "id": "75c0465d-8c5c-4c8c-b222-cfbaed12e1b9",
   "metadata": {
    "jupyter": {
     "source_hidden": true
    },
    "tags": []
   },
   "outputs": [],
   "source": [
    "def visualize_model(x_train, labels, model, degree = 1):\n",
    "    f = plt.figure(figsize = (8,8))\n",
    "    x1_min = np.min(x_train[:,0])\n",
    "    x1_max = np.max(x_train[:,0])\n",
    "    x2_min = np.min(x_train[:,1])\n",
    "    x2_max = np.max(x_train[:,1])\n",
    "    \n",
    "    x1_test, x2_test = np.meshgrid(np.linspace(x1_min, x1_max, 100), \n",
    "                                   np.linspace(x2_min, x2_max, 100))\n",
    "    x_test_poly = np.array([x1_test, x2_test]).reshape(2, -1).T\n",
    "    y_test = model.predict(x_test_poly)\n",
    "    \n",
    "    flat_labels = labels.flatten()\n",
    "    sns.scatterplot(data = x_train, x = x_train[:,0], y = x_train[:,1], hue = flat_labels)\n",
    "    plt.contourf(x1_test, x2_test, y_test.reshape(100,100), alpha = 0.5, levels = np.linspace(0,1,3))\n",
    "    plt.xlabel('$x_1$')\n",
    "    plt.ylabel('$x_2$')\n",
    "    plt.xlim(x1_min, x1_max)\n",
    "    plt.ylim(x2_min, x2_max)\n",
    "    plt.gca().set_aspect('equal', adjustable = 'box')\n",
    "    plt.show()"
   ]
  },
  {
   "cell_type": "code",
   "execution_count": 4,
   "id": "1357c4ef-622e-43bc-ac9c-cbf99d19c80a",
   "metadata": {},
   "outputs": [
    {
     "ename": "NameError",
     "evalue": "name 'OneHotEncode' is not defined",
     "output_type": "error",
     "traceback": [
      "\u001b[1;31m---------------------------------------------------------------------------\u001b[0m",
      "\u001b[1;31mNameError\u001b[0m                                 Traceback (most recent call last)",
      "\u001b[1;32m~\\AppData\\Local\\Temp/ipykernel_15732/2932764061.py\u001b[0m in \u001b[0;36m<module>\u001b[1;34m\u001b[0m\n\u001b[0;32m      4\u001b[0m                            n_features=2, cluster_std = 2, centers = 2)\n\u001b[0;32m      5\u001b[0m \u001b[0my\u001b[0m \u001b[1;33m=\u001b[0m \u001b[0my\u001b[0m\u001b[1;33m.\u001b[0m\u001b[0mreshape\u001b[0m\u001b[1;33m(\u001b[0m\u001b[1;33m-\u001b[0m\u001b[1;36m1\u001b[0m\u001b[1;33m,\u001b[0m\u001b[1;36m1\u001b[0m\u001b[1;33m)\u001b[0m\u001b[1;33m\u001b[0m\u001b[1;33m\u001b[0m\u001b[0m\n\u001b[1;32m----> 6\u001b[1;33m \u001b[0my\u001b[0m \u001b[1;33m=\u001b[0m \u001b[0mOneHotEncode\u001b[0m\u001b[1;33m(\u001b[0m\u001b[0my\u001b[0m\u001b[1;33m)\u001b[0m\u001b[1;33m\u001b[0m\u001b[1;33m\u001b[0m\u001b[0m\n\u001b[0m\u001b[0;32m      7\u001b[0m \u001b[0mprint\u001b[0m\u001b[1;33m(\u001b[0m\u001b[0my\u001b[0m\u001b[1;33m)\u001b[0m\u001b[1;33m\u001b[0m\u001b[1;33m\u001b[0m\u001b[0m\n\u001b[0;32m      8\u001b[0m \u001b[0mlsc\u001b[0m \u001b[1;33m=\u001b[0m \u001b[0mLeastSquareClassifier\u001b[0m\u001b[1;33m(\u001b[0m\u001b[0moptimizer\u001b[0m \u001b[1;33m=\u001b[0m \u001b[1;34m'GD'\u001b[0m\u001b[1;33m)\u001b[0m\u001b[1;33m\u001b[0m\u001b[1;33m\u001b[0m\u001b[0m\n",
      "\u001b[1;31mNameError\u001b[0m: name 'OneHotEncode' is not defined"
     ]
    }
   ],
   "source": [
    "from sklearn.datasets import make_blobs\n",
    "from preprocessing.ohe import OneHotEncoder\n",
    "X, y = make_blobs(n_samples=1000, random_state = 42,\n",
    "                           n_features=2, cluster_std = 2, centers = 2)\n",
    "y = y.reshape(-1,1)\n",
    "y = OneHotEncoder(y)\n",
    "print(y)\n",
    "lsc = LeastSquareClassifier(optimizer = 'GD')\n",
    "lsc.fit(X, y, epochs = 100, batch_size = 150, learning_rate = 0.0001)\n",
    "print(lsc.predict(X))\n",
    "visualize_model(X, y, lsc)"
   ]
  },
  {
   "cell_type": "code",
   "execution_count": null,
   "id": "37f6d18c-fdf1-4a97-91c7-a2fe2c33f605",
   "metadata": {},
   "outputs": [],
   "source": []
  },
  {
   "cell_type": "code",
   "execution_count": null,
   "id": "faa78e8a-00d3-42f0-8171-15746bdf4175",
   "metadata": {},
   "outputs": [],
   "source": []
  }
 ],
 "metadata": {
  "kernelspec": {
   "display_name": "Python 3 (ipykernel)",
   "language": "python",
   "name": "python3"
  },
  "language_info": {
   "codemirror_mode": {
    "name": "ipython",
    "version": 3
   },
   "file_extension": ".py",
   "mimetype": "text/x-python",
   "name": "python",
   "nbconvert_exporter": "python",
   "pygments_lexer": "ipython3",
   "version": "3.8.8"
  }
 },
 "nbformat": 4,
 "nbformat_minor": 5
}
